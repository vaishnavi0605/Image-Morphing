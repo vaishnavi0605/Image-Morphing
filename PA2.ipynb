{
 "cells": [
  {
   "cell_type": "code",
   "execution_count": 31,
   "metadata": {},
   "outputs": [],
   "source": [
    "#Import all the libraries\n",
    "import cv2\n",
    "import numpy as np \n",
    "import matplotlib.pyplot as plt\n",
    "import dlib\n",
    "import os\n",
    "import imageio"
   ]
  },
  {
   "cell_type": "code",
   "execution_count": 32,
   "metadata": {},
   "outputs": [],
   "source": [
    "#Reading the images\n",
    "image1 = cv2.imread('image1.jpg')\n",
    "image2 = cv2.imread('image2.jpg')\n",
    "\n",
    "#Converting the image to gray scale\n",
    "image1_gray = cv2.cvtColor(image1,cv2.COLOR_BGR2GRAY)\n",
    "image2_gray = cv2.cvtColor(image2,cv2.COLOR_BGR2GRAY)\n",
    "\n",
    "#Forming mask of image1 and image2\n",
    "image1_mask = np.zeros_like(image1_gray)\n",
    "image2_mask = np.zeros_like(image2_gray)"
   ]
  },
  {
   "cell_type": "code",
   "execution_count": 33,
   "metadata": {},
   "outputs": [],
   "source": [
    "detector = dlib.get_frontal_face_detector()\n",
    "predictor = dlib.shape_predictor('shape_predictor_68_face_landmarks.dat')"
   ]
  },
  {
   "cell_type": "code",
   "execution_count": 34,
   "metadata": {},
   "outputs": [],
   "source": [
    "landmarks_points_image1 = []\n",
    "landmarks_points_image2 = []\n",
    "\n",
    "num = int(input(\"Enter 1 for manual and 2 for automatic face detection : \"))"
   ]
  },
  {
   "cell_type": "code",
   "execution_count": 35,
   "metadata": {},
   "outputs": [],
   "source": [
    "if num == 1:\n",
    "    fptr = open('TilePoints.txt','r')\n",
    "    for j in fptr:\n",
    "        a = j.split()\n",
    "        landmarks_points_image1.append((int(a[0]), int(a[1])))\n",
    "        landmarks_points_image2.append((int(a[2]),int(a[3])))\n",
    "    fptr.close()\n",
    "else:\n",
    "    #Detecting landmark points of image1\n",
    "    face1 = detector(image1_gray)\n",
    "    for face in face1:\n",
    "        landmarks = predictor(image1_gray,face)\n",
    "        landmarks_points_image1 = []\n",
    "        for n in range(0,68):\n",
    "            x = landmarks.part(n).x\n",
    "            y = landmarks.part(n).y\n",
    "            landmarks_points_image1.append((x,y))\n",
    "            \n",
    "    #Append extremeties of image\n",
    "    h = image1.shape[0]\n",
    "    w = image1.shape[1]\n",
    "    landmarks_points_image1.append((0,0))\n",
    "    landmarks_points_image1.append((w-1,0))\n",
    "    landmarks_points_image1.append((0,h-1))\n",
    "    landmarks_points_image1.append((w-1,h-1))\n",
    "\n",
    "\n",
    "    #Detecting landmark points of image2\n",
    "    face2 = detector(image2_gray)\n",
    "\n",
    "    for face in face2:\n",
    "        landmarks = predictor(image2_gray,face)\n",
    "        landmarks_points_image2 = []\n",
    "        for n in  range(0,68):\n",
    "            x = landmarks.part(n).x\n",
    "            y = landmarks.part(n).y\n",
    "            landmarks_points_image2.append((x,y))\n",
    "            \n",
    "    #Append extremeties of image\n",
    "    h = image2.shape[0]\n",
    "    w = image2.shape[1]\n",
    "    landmarks_points_image2.append((0,0))\n",
    "    landmarks_points_image2.append((w-1,0))\n",
    "    landmarks_points_image2.append((0,h-1))\n",
    "    landmarks_points_image2.append((w-1,h-1))"
   ]
  },
  {
   "cell_type": "code",
   "execution_count": 36,
   "metadata": {},
   "outputs": [],
   "source": [
    "#Defining the no of frames\n",
    "no_of_frames = 100\n",
    "frames = np.array([np.zeros_like(image1)]*no_of_frames)"
   ]
  },
  {
   "cell_type": "code",
   "execution_count": 37,
   "metadata": {},
   "outputs": [],
   "source": [
    "#Finding the landmark points of morphed images\n",
    "morphed_landmark_points = []\n",
    "\n",
    "#Traversing for each frame\n",
    "for i in range(1,no_of_frames):\n",
    "    k = i/no_of_frames\n",
    "    landmarks_points_imagek = []\n",
    "    \n",
    "    #Finding landmark points for morphed image k\n",
    "    for j in range(len(landmarks_points_image1)):\n",
    "        x1 = landmarks_points_image1[j][0]\n",
    "        y1 = landmarks_points_image1[j][1]\n",
    "        x2 = landmarks_points_image2[j][0]\n",
    "        y2 = landmarks_points_image2[j][1]\n",
    "        \n",
    "        xk = (1-k)*x1 + k *x2\n",
    "        yk = (1-k)*y1 + k *y2\n",
    "        landmarks_points_imagek.append((xk,yk))\n",
    "    morphed_landmark_points.append(landmarks_points_imagek)"
   ]
  },
  {
   "cell_type": "code",
   "execution_count": 38,
   "metadata": {},
   "outputs": [],
   "source": [
    "morphed_landmark_points = np.array(morphed_landmark_points,np.int32)"
   ]
  },
  {
   "cell_type": "code",
   "execution_count": 39,
   "metadata": {},
   "outputs": [],
   "source": [
    "#Delaunay Triangulation\n",
    "#Finding the indexes of delaunay Triangles\n",
    "rect = cv2.boundingRect(image1_gray)\n",
    "rect\n",
    "subdiv = cv2.Subdiv2D(rect)\n",
    "subdiv.insert(landmarks_points_image1)\n",
    "triangles = subdiv.getTriangleList()\n",
    "triangles = np.array(triangles,dtype=np.int32)"
   ]
  },
  {
   "cell_type": "code",
   "execution_count": 40,
   "metadata": {},
   "outputs": [],
   "source": [
    "points = np.array(landmarks_points_image1,np.int32)"
   ]
  },
  {
   "cell_type": "code",
   "execution_count": 41,
   "metadata": {},
   "outputs": [],
   "source": [
    "#Finding the indexes of triangles in image1\n",
    "\n",
    "def extract_index_nparray(nparray):\n",
    "    index = None\n",
    "    for num in nparray[0]:\n",
    "        index = num\n",
    "        break\n",
    "    return index\n",
    "\n",
    "indexes_triangles = []\n",
    "\n",
    "for t in triangles:\n",
    "    pt1 = (t[0],t[1])\n",
    "    pt2 = (t[2],t[3])\n",
    "    pt3 = (t[4],t[5])\n",
    "    \n",
    "    index_pt1 = np.where((points == pt1).all(axis=1))\n",
    "    index_pt1 = extract_index_nparray(index_pt1)\n",
    "    \n",
    "    index_pt2 = np.where((points == pt2).all(axis=1))\n",
    "    index_pt2 = extract_index_nparray(index_pt2)\n",
    "    \n",
    "    index_pt3 = np.where((points == pt3).all(axis=1))\n",
    "    index_pt3 = extract_index_nparray(index_pt3)\n",
    "    \n",
    "    if(index_pt1 is not None and index_pt2 is not None and index_pt3 is not None):\n",
    "        triangle = [index_pt1,index_pt2,index_pt3]\n",
    "        indexes_triangles.append(triangle)"
   ]
  },
  {
   "cell_type": "code",
   "execution_count": 42,
   "metadata": {},
   "outputs": [],
   "source": [
    "#for k frames\n",
    "for k in range(len(morphed_landmark_points)):\n",
    "    for triangle_index in indexes_triangles:\n",
    "        \n",
    "        #Finding the triangle points of image1\n",
    "        tri1_pt1 = landmarks_points_image1[triangle_index[0]]\n",
    "        tri1_pt2 = landmarks_points_image1[triangle_index[1]]\n",
    "        tri1_pt3 = landmarks_points_image1[triangle_index[2]]\n",
    "        \n",
    "        #Finding the triangle points of image2\n",
    "        tri2_pt1 = landmarks_points_image2[triangle_index[0]]\n",
    "        tri2_pt2 = landmarks_points_image2[triangle_index[1]]\n",
    "        tri2_pt3 = landmarks_points_image2[triangle_index[2]]\n",
    "        \n",
    "        #Finding the triangle points in morphed image\n",
    "        tri_morph_pt1 = morphed_landmark_points[k][triangle_index[0]]\n",
    "        tri_morph_pt2 = morphed_landmark_points[k][triangle_index[1]]\n",
    "        tri_morph_pt3 = morphed_landmark_points[k][triangle_index[2]]\n",
    "        \n",
    "        #Finding bounding rectangle of tri1\n",
    "        triangle1 = np.array([tri1_pt1,tri1_pt2,tri1_pt3],dtype=np.int32)\n",
    "        rect1 = cv2.boundingRect(triangle1)\n",
    "        (x,y,w,h) = rect1\n",
    "        cropped_triangle1 = image1[y:y+h,x:x+w]\n",
    "        cropped_tri1_mask = np.zeros((h,w),np.uint8)\n",
    "        \n",
    "        points1 = np.array([[tri1_pt1[0] - x, tri1_pt1[1] - y],\n",
    "                        [tri1_pt2[0] - x, tri1_pt2[1] - y],\n",
    "                        [tri1_pt3[0] - x, tri1_pt3[1] - y]],np.int32)\n",
    "        \n",
    "        cv2.fillConvexPoly(cropped_tri1_mask,points1,255)\n",
    "        cropped_triangle1 = cv2.bitwise_and(cropped_triangle1,cropped_triangle1,mask=cropped_tri1_mask)\n",
    "        \n",
    "        \n",
    "        #Finding bounding rectangle of tri2\n",
    "        triangle2 = np.array([tri2_pt1,tri2_pt2,tri2_pt3],dtype=np.int32)\n",
    "        rect2 = cv2.boundingRect(triangle2)\n",
    "        (x,y,w,h) = rect2\n",
    "        cropped_triangle2 = image2[y:y+h,x:x+w]\n",
    "        cropped_tri2_mask = np.zeros((h,w),np.uint8)\n",
    "        \n",
    "        points2 = np.array([[tri2_pt1[0] - x, tri2_pt1[1] - y],\n",
    "                        [tri2_pt2[0] - x, tri2_pt2[1] - y],\n",
    "                        [tri2_pt3[0] - x, tri2_pt3[1] - y]],np.int32)\n",
    "        cv2.fillConvexPoly(cropped_tri2_mask,points2,255)\n",
    "        cropped_triangle2 = cv2.bitwise_and(cropped_triangle2,cropped_triangle2,mask=cropped_tri2_mask)\n",
    "        \n",
    "        #Finding bounding rectangle of morphed_tri\n",
    "        triangle_morph = np.array([tri_morph_pt1,tri_morph_pt2,tri_morph_pt3],dtype=np.int32)\n",
    "        rect_morph = cv2.boundingRect(triangle_morph)\n",
    "        (x,y,w,h) = rect_morph\n",
    "        \n",
    "        points_morph = np.array([[tri_morph_pt1[0]-x, tri_morph_pt1[1]-y],\n",
    "                                [tri_morph_pt2[0]-x, tri_morph_pt2[1]-y],\n",
    "                                [tri_morph_pt3[0]-x,tri_morph_pt3[1]-y]],dtype=np.int32)\n",
    "        \n",
    "        #Affine Transform\n",
    "        points1 = np.float32(points1)\n",
    "        points2 = np.float32(points2)\n",
    "        points_morph = np.float32(points_morph)\n",
    "        \n",
    "        affine1 = cv2.getAffineTransform(points1,points_morph)\n",
    "        affine2 = cv2.getAffineTransform(points2,points_morph)\n",
    "        \n",
    "        warped_triangle1 = cv2.warpAffine(cropped_triangle1,affine1,(w,h))\n",
    "        warped_triangle2 = cv2.warpAffine(cropped_triangle2,affine2,(w,h))\n",
    "        \n",
    "        #Forming final warped triangle\n",
    "        p = (k+1)/no_of_frames\n",
    "        warped_triangle_final  = (1-p)*warped_triangle1 + p*warped_triangle2\n",
    "        warped_triangle_final = np.round_(warped_triangle_final,decimals=0,out=None)\n",
    "        \n",
    "        triangle_area = frames[k][y:y+h,x:x+w]\n",
    "        warped_triangle_final = np.array(warped_triangle_final,dtype=np.uint8)\n",
    "        triangle_area = np.array(triangle_area,dtype=np.uint8)\n",
    "        \n",
    "        triangle_area = cv2.add(triangle_area,warped_triangle_final)\n",
    "        frames[k][y:y+h,x:x+w] = triangle_area \n",
    "    "
   ]
  },
  {
   "cell_type": "code",
   "execution_count": 43,
   "metadata": {},
   "outputs": [],
   "source": [
    "src2 = './Gif'\n",
    "if(os.path.exists(src2) == False):\n",
    "    os.mkdir(src2)"
   ]
  },
  {
   "cell_type": "code",
   "execution_count": 44,
   "metadata": {},
   "outputs": [
    {
     "name": "stderr",
     "output_type": "stream",
     "text": [
      "C:\\Users\\sahil\\AppData\\Local\\Temp\\ipykernel_31064\\1169179116.py:11: DeprecationWarning: Starting with ImageIO v3 the behavior of this function will switch to that of iio.v3.imread. To keep the current behavior (and make this warning disappear) use `import imageio.v2 as imageio` or call `imageio.v2.imread` directly.\n",
      "  images.append(imageio.imread(file_path))\n"
     ]
    }
   ],
   "source": [
    "#Writing images\n",
    "src = './Images'\n",
    "if(os.path.exists(src) == False):\n",
    "    os.mkdir(src)\n",
    "\n",
    "images = []\n",
    "for i in range(no_of_frames-1):\n",
    "    name = \"img\" + str(i+1) + \".jpg\"\n",
    "    cv2.imwrite(f'{src}/{name}',frames[i])\n",
    "    file_path = os.path.join(src, name)\n",
    "    images.append(imageio.imread(file_path))\n",
    "    \n",
    "imageio.mimsave(f'{src2}/output.gif', images,fps = no_of_frames/2)\n"
   ]
  }
 ],
 "metadata": {
  "kernelspec": {
   "display_name": "Python 3",
   "language": "python",
   "name": "python3"
  },
  "language_info": {
   "codemirror_mode": {
    "name": "ipython",
    "version": 3
   },
   "file_extension": ".py",
   "mimetype": "text/x-python",
   "name": "python",
   "nbconvert_exporter": "python",
   "pygments_lexer": "ipython3",
   "version": "3.11.1"
  },
  "orig_nbformat": 4,
  "vscode": {
   "interpreter": {
    "hash": "5238573367df39f7286bb46f9ff5f08f63a01a80960060ce41e3c79b190280fa"
   }
  }
 },
 "nbformat": 4,
 "nbformat_minor": 2
}
